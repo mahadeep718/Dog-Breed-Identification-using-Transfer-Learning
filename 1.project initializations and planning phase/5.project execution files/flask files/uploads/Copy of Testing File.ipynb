{
 "cells": [
  {
   "cell_type": "code",
   "execution_count": 10,
   "metadata": {},
   "outputs": [],
   "source": [
    "from keras.models import load_model\n",
    "from keras.preprocessing import image\n",
    "import numpy as np"
   ]
  },
  {
   "cell_type": "code",
   "execution_count": 11,
   "metadata": {},
   "outputs": [
    {
     "name": "stderr",
     "output_type": "stream",
     "text": [
      "WARNING:absl:Compiled the loaded model, but the compiled metrics have yet to be built. `model.compile_metrics` will be empty until you train or evaluate the model.\n",
      "WARNING:absl:Error in loading the saved optimizer state. As a result, your model is starting with a freshly initialized optimizer.\n"
     ]
    }
   ],
   "source": [
    "model = load_model(r\"C:\\Users\\harsh\\OneDrive\\Desktop\\train.h5\")"
   ]
  },
  {
   "cell_type": "code",
   "execution_count": 12,
   "metadata": {},
   "outputs": [],
   "source": [
    "img = image.load_img(r\"C:\\Users\\harsh\\OneDrive\\Desktop\\bostonDog1.webp\",target_size = (224,224,3))"
   ]
  },
  {
   "cell_type": "code",
   "execution_count": 13,
   "metadata": {},
   "outputs": [],
   "source": [
    "x = image.img_to_array(img)\n",
    "x = np.expand_dims(x,axis =0)\n",
    "       "
   ]
  },
  {
   "cell_type": "code",
   "execution_count": 14,
   "metadata": {},
   "outputs": [
    {
     "data": {
      "text/plain": [
       "(1, 224, 224, 3)"
      ]
     },
     "execution_count": 14,
     "metadata": {},
     "output_type": "execute_result"
    }
   ],
   "source": [
    "x.shape"
   ]
  },
  {
   "cell_type": "code",
   "execution_count": 15,
   "metadata": {},
   "outputs": [
    {
     "name": "stdout",
     "output_type": "stream",
     "text": [
      "\u001b[1m1/1\u001b[0m \u001b[32m━━━━━━━━━━━━━━━━━━━━\u001b[0m\u001b[37m\u001b[0m \u001b[1m2s\u001b[0m 2s/step\n"
     ]
    }
   ],
   "source": [
    "predictions = model.predict(x)\n",
    "\n",
    "# Convert predicted probabilities to class labels\n",
    "predicted_classes = np.argmax(predictions, axis=1)"
   ]
  },
  {
   "cell_type": "code",
   "execution_count": 16,
   "metadata": {},
   "outputs": [
    {
     "data": {
      "text/plain": [
       "array([19], dtype=int64)"
      ]
     },
     "execution_count": 16,
     "metadata": {},
     "output_type": "execute_result"
    }
   ],
   "source": [
    "predicted_classes"
   ]
  },
  {
   "cell_type": "code",
   "execution_count": 17,
   "metadata": {},
   "outputs": [],
   "source": [
    "index = ['affenpinscher', 'afghan_hound', 'african_hunting_dog', 'airedale', 'american_staffordshire_terrier', 'appenzeller', 'australian_terrier', 'basenji', 'basset', 'beagle', 'bedlington_terrier', 'bernese_mountain_dog', 'black-and-tan_coonhound', 'blenheim_spaniel', 'bloodhound', 'bluetick', 'border_collie', 'border_terrier', 'borzoi', 'boston_bull', 'bouvier_des_flandres', 'boxer', 'brabancon_griffon', 'briard', 'brittany_spaniel', 'bull_mastiff\t', 'cairn\t', 'cardigan', 'chesapeake_bay_retriever ', 'chihuahua\t', 'chow\t', 'clumber', 'cocker_spaniel', 'collie\t', 'curly-coated_retriever', 'dandie_dinmont\t', 'dhole\t', 'dingo\t', 'doberman', 'english_foxhound', 'english_setter\t', 'english_springer\t', 'entlebucher\t', 'eskimo_dog\t', 'flat-coated_retriever', 'french_bulldog\t', 'german_shepherd\t', 'german_short-haired_pointer', 'giant_schnauzer\t', 'golden_retriever\t', 'gordon_setter\t', 'great_dane\t', 'great_pyrenees', 'greater_swiss_mountain_dog', 'groenendael\t', 'ibizan_hound\t', 'irish_setter\t', 'irish_terrier\t', 'irish_water_spaniel', 'irish_wolfhound\t', 'italian_greyhound\t', 'japanese_spaniel\t', 'keeshond\t', 'kelpie\t', 'kerry_blue_terrier', 'komondor\t', 'kuvasz\t', 'labrador_retriever', 'lakeland_terrier\t', 'leonberg\t', 'lhasa\t', 'malamute', 'malinois', 'maltese_dog', 'mexican_hairless', 'miniature_pinscher', 'miniature_poodle\t', 'miniature_schnauzer', 'newfoundland\t', 'norfolk_terrier', 'norwegian_elkhound', 'norwich_terrier\t', 'old_english_sheepdog', 'otterhound\t', 'papillon\t', 'pekinese\t', 'pembroke\t', 'pomeranian', 'pug\t', 'redbone', 'rhodesian_ridgeback', 'rottweiler\t', 'saint_bernard\t', 'saluki\t', 'samoyed\t', 'schipperke', 'scotch_terrier', 'scottish_deerhound', 'sealyham_terrier\t', 'shetland_sheepdog\t', 'shih-tzu\t', 'siberian_husky', 'silky_terrier\t', 'soft-coated_wheaten_terrier', 'staffordshire_bullterrier\t', 'standard_poodle\t', 'standard_schnauzer', 'sussex_spaniel\t', 'tibetan_mastiff\t', 'tibetan_terrier\t', 'toy_poodle\t', 'toy_terrier\t', 'vizsla\t', 'walker_hound', 'weimaraner\t', 'welsh_springer_spaniel', 'west_highland_white_terrier', 'whippet\t', 'wire-haired_fox_terrier', 'yorkshire_terrier']\n",
    "        "
   ]
  },
  {
   "cell_type": "code",
   "execution_count": 18,
   "metadata": {},
   "outputs": [
    {
     "data": {
      "text/plain": [
       "'boston_bull'"
      ]
     },
     "execution_count": 18,
     "metadata": {},
     "output_type": "execute_result"
    }
   ],
   "source": [
    "index[predicted_classes[0]]"
   ]
  },
  {
   "cell_type": "code",
   "execution_count": null,
   "metadata": {},
   "outputs": [],
   "source": []
  }
 ],
 "metadata": {
  "kernelspec": {
   "display_name": "Python 3 (ipykernel)",
   "language": "python",
   "name": "python3"
  },
  "language_info": {
   "codemirror_mode": {
    "name": "ipython",
    "version": 3
   },
   "file_extension": ".py",
   "mimetype": "text/x-python",
   "name": "python",
   "nbconvert_exporter": "python",
   "pygments_lexer": "ipython3",
   "version": "3.11.1"
  }
 },
 "nbformat": 4,
 "nbformat_minor": 2
}
